{
 "cells": [
  {
   "cell_type": "markdown",
   "id": "6437dc74",
   "metadata": {},
   "source": [
    "# Sample Autoencoder\n",
    "\n",
    "In this notebook a sample autoencoder model is presented, showcasing the functionalities from the source utility files, upon which all model implementations can be built."
   ]
  },
  {
   "cell_type": "markdown",
   "id": "006d38fd",
   "metadata": {},
   "source": [
    "## Add project root to path"
   ]
  },
  {
   "cell_type": "code",
   "execution_count": null,
   "metadata": {},
   "outputs": [],
   "source": [
    "from pathlib import Path\n",
    "src_root = Path.cwd().parent # notebooks -> ml-sandbox\n",
    "\n",
    "# Add source root to sys.path\n",
    "import sys\n",
    "if str(src_root) not in sys.path:\n",
    "    sys.path.append(str(src_root))"
   ]
  },
  {
   "cell_type": "markdown",
   "id": "5f4b550a",
   "metadata": {},
   "source": [
    "## Import necessary modules"
   ]
  },
  {
   "cell_type": "code",
   "execution_count": null,
   "id": "3d3db0c7",
   "metadata": {},
   "outputs": [],
   "source": [
    "from src import (\n",
    "    MnistDataset,\n",
    "    Regressor,\n",
    "    Autoencoder,\n",
    ")\n",
    "\n",
    "# Machine learning\n",
    "import torch\n",
    "from torch import nn as nn"
   ]
  },
  {
   "cell_type": "markdown",
   "id": "42a58ce1",
   "metadata": {},
   "source": [
    "## Define training hyperparameters"
   ]
  },
  {
   "cell_type": "code",
   "execution_count": null,
   "id": "a59df917",
   "metadata": {},
   "outputs": [],
   "source": [
    "hparams = dict(\n",
    "    # Training hyperparameters\n",
    "    batch_size=64,\n",
    "    num_epochs=100,\n",
    "    # Model hyperparameters\n",
    "    learning_rate=1e-3,\n",
    "    regularization_weight=1e-5,\n",
    ")"
   ]
  },
  {
   "cell_type": "markdown",
   "id": "91ad791a",
   "metadata": {},
   "source": [
    "## Define the model"
   ]
  },
  {
   "cell_type": "code",
   "execution_count": null,
   "id": "f1d06494",
   "metadata": {},
   "outputs": [],
   "source": [
    "mnist = MnistDataset()\n",
    "dataloaders = mnist.get_dataloaders(\n",
    "    train_split=0.6,\n",
    "    val_split=0.2,\n",
    "    test_split=0.2,\n",
    "    batch_size=hparams['batch_size']\n",
    ")\n",
    "\n",
    "model = Autoencoder(dims = [28*28, 128, 64, 32], sigma=nn.LeakyReLU)\n",
    "\n",
    "optimizer = torch.optim.Adam(model.parameters(), lr=hparams['learning_rate'])\n",
    "\n",
    "scheduler = torch.optim.lr_scheduler.ReduceLROnPlateau(\n",
    "    optimizer,\n",
    "    mode='min',\n",
    "    factor=0.5,\n",
    "    patience=10,\n",
    ")\n",
    "\n",
    "trainer = Regressor(\n",
    "    model=model,\n",
    "    optimizer=optimizer,\n",
    "    scheduler=scheduler,\n",
    "    scheduler_metric=True,\n",
    "    loss_function=\"MSE\"\n",
    ").initialize_regularization(\n",
    "    method=\"L2\",\n",
    "    weight=hparams['regularization_weight']\n",
    ")"
   ]
  },
  {
   "cell_type": "markdown",
   "id": "0599da0e",
   "metadata": {},
   "source": [
    "## Train the model"
   ]
  },
  {
   "cell_type": "code",
   "execution_count": null,
   "id": "4db612b2",
   "metadata": {},
   "outputs": [],
   "source": [
    "results = trainer.train(\n",
    "    train_dataloader=dataloaders['train'],\n",
    "    validation_dataloader=dataloaders['val'],\n",
    "    epochs=hparams['num_epochs']\n",
    ")"
   ]
  },
  {
   "cell_type": "markdown",
   "id": "d089a9d6",
   "metadata": {},
   "source": [
    "## Print training results"
   ]
  },
  {
   "cell_type": "code",
   "execution_count": null,
   "id": "c2b83e8d",
   "metadata": {},
   "outputs": [],
   "source": [
    "print(\"=\"*20 + \" Training Results \" + \"=\"*20)\n",
    "\n",
    "print(f\"Final training loss: {results.train_loss:.4f}\")\n",
    "print(f\"Final validation loss: {results.validation_loss:.4f}\")"
   ]
  },
  {
   "cell_type": "markdown",
   "id": "a0dccb7a",
   "metadata": {},
   "source": [
    "## Show sample reconstruction images"
   ]
  }
 ],
 "metadata": {
  "kernelspec": {
   "display_name": "ml-sandbox (3.13.7)",
   "language": "python",
   "name": "python3"
  },
  "language_info": {
   "codemirror_mode": {
    "name": "ipython",
    "version": 3
   },
   "file_extension": ".py",
   "mimetype": "text/x-python",
   "name": "python",
   "nbconvert_exporter": "python",
   "pygments_lexer": "ipython3",
   "version": "3.13.7"
  }
 },
 "nbformat": 4,
 "nbformat_minor": 5
}
