{
 "cells": [
  {
   "cell_type": "markdown",
   "id": "ef2a2cdf",
   "metadata": {},
   "source": [
    "# Input_data package usage example\n",
    "\n",
    "## Setup\n",
    "\n",
    "### Print available datasets"
   ]
  },
  {
   "cell_type": "code",
   "execution_count": null,
   "id": "775461b9",
   "metadata": {},
   "outputs": [],
   "source": [
    "from src.input_data import create_dataset, SupportedDatasets, list_supported_datasets\n",
    "\n",
    "datasets = list_supported_datasets()\n",
    "print(f\"Supported datasets: {', '.join(datasets)}\")"
   ]
  },
  {
   "cell_type": "markdown",
   "id": "ec01e17b",
   "metadata": {},
   "source": [
    "### Set data root directory"
   ]
  },
  {
   "cell_type": "code",
   "execution_count": null,
   "id": "2213f850",
   "metadata": {},
   "outputs": [],
   "source": [
    "from pathlib import Path\n",
    "root = Path.cwd().parent / \"data\" # src -> ml-sandbox -> ~/data"
   ]
  },
  {
   "cell_type": "markdown",
   "id": "0b459879",
   "metadata": {},
   "source": [
    "## MNIST Dataset\n",
    "\n",
    "### Download the dataset"
   ]
  },
  {
   "cell_type": "code",
   "execution_count": null,
   "id": "cab73db1",
   "metadata": {},
   "outputs": [],
   "source": [
    "print(f\"\\n{'='*10} Working with {SupportedDatasets.MNIST.name} {'='*10}\\n\")\n",
    "\n",
    "mnist_dataset = create_dataset(SupportedDatasets.MNIST, root=root, force_download=False)"
   ]
  },
  {
   "cell_type": "markdown",
   "id": "cd8d1770",
   "metadata": {},
   "source": [
    "### Print dataset information and visualization"
   ]
  },
  {
   "cell_type": "code",
   "execution_count": null,
   "id": "cf3fabfa",
   "metadata": {},
   "outputs": [],
   "source": [
    "# Print dataset information and show random samples\n",
    "mnist_dataset.print_info()\n",
    "\n",
    "# Visualize some examples\n",
    "mnist_dataset.show_illustrative_samples()"
   ]
  },
  {
   "cell_type": "markdown",
   "id": "b49b229b",
   "metadata": {},
   "source": [
    "## FASHION-MNIST Dataset\n",
    "\n",
    "### Download the dataset"
   ]
  },
  {
   "cell_type": "code",
   "execution_count": null,
   "id": "66ff3ff0",
   "metadata": {},
   "outputs": [],
   "source": [
    "print(f\"\\n{'='*10} Working with {SupportedDatasets.FASHION_MNIST.name} {'='*10}\\n\")\n",
    "\n",
    "fashion_mnist_dataset = create_dataset(SupportedDatasets.FASHION_MNIST, root=root, force_download=False)"
   ]
  },
  {
   "cell_type": "markdown",
   "id": "fae71944",
   "metadata": {},
   "source": [
    "### Print dataset information and visualization"
   ]
  },
  {
   "cell_type": "code",
   "execution_count": null,
   "id": "e928d025",
   "metadata": {},
   "outputs": [],
   "source": [
    "# Print dataset information and show random samples\n",
    "fashion_mnist_dataset.print_info()\n",
    "\n",
    "# Visualize some examples\n",
    "fashion_mnist_dataset.show_illustrative_samples()"
   ]
  },
  {
   "cell_type": "markdown",
   "id": "c648bfc6",
   "metadata": {},
   "source": [
    "## CIFAR-10 Dataset\n",
    "\n",
    "### Download the dataset"
   ]
  },
  {
   "cell_type": "code",
   "execution_count": null,
   "id": "4bc743de",
   "metadata": {},
   "outputs": [],
   "source": [
    "print(f\"\\n{'='*10} Working with {SupportedDatasets.CIFAR10.name} {'='*10}\\n\")\n",
    "\n",
    "cifar10_dataset = create_dataset(SupportedDatasets.CIFAR10, root=root, force_download=False)"
   ]
  },
  {
   "cell_type": "markdown",
   "id": "9ee226c4",
   "metadata": {},
   "source": [
    "### Print dataset information and visualization"
   ]
  },
  {
   "cell_type": "code",
   "execution_count": null,
   "id": "1ce0d34e",
   "metadata": {},
   "outputs": [],
   "source": [
    "# Print dataset information and show random samples\n",
    "cifar10_dataset.print_info()\n",
    "\n",
    "# Visualize some examples\n",
    "cifar10_dataset.show_illustrative_samples()"
   ]
  }
 ],
 "metadata": {
  "kernelspec": {
   "display_name": ".venv",
   "language": "python",
   "name": "python3"
  },
  "language_info": {
   "codemirror_mode": {
    "name": "ipython",
    "version": 3
   },
   "file_extension": ".py",
   "mimetype": "text/x-python",
   "name": "python",
   "nbconvert_exporter": "python",
   "pygments_lexer": "ipython3",
   "version": "3.12.3"
  }
 },
 "nbformat": 4,
 "nbformat_minor": 5
}
